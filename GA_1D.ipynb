{
 "cells": [
  {
   "cell_type": "markdown",
   "id": "d9ce1add",
   "metadata": {},
   "source": [
    "# Genetic Algorithm - 1D Example"
   ]
  },
  {
   "cell_type": "markdown",
   "id": "3a4335b1",
   "metadata": {},
   "source": [
    "# How to create arrays and apply math functions to them?"
   ]
  },
  {
   "cell_type": "code",
   "execution_count": null,
   "id": "b2a92c7d",
   "metadata": {},
   "outputs": [],
   "source": [
    "import numpy as np\n",
    "\n",
    "x = np.arange(0, np.pi, 0.2)\n",
    "y = np.sin(x)\n",
    "print(f\"sine applied to the array: \\n{x} \\ngives: \\n {y}\")"
   ]
  },
  {
   "cell_type": "markdown",
   "id": "31b0e63c",
   "metadata": {},
   "source": [
    "## How to plot results?"
   ]
  },
  {
   "cell_type": "code",
   "execution_count": null,
   "id": "cbd60e4d",
   "metadata": {
    "lines_to_next_cell": 1
   },
   "outputs": [],
   "source": [
    "import matplotlib.pyplot as plt\n",
    "from IPython import get_ipython\n",
    "\n",
    "# For nicer animations in jupyter\n",
    "get_ipython().run_line_magic(\"matplotlib\", \"widget\")\n",
    "\n",
    "x = np.arange(0, np.pi, 0.1)\n",
    "y = np.sin(x)\n",
    "plt.scatter(x, y)\n",
    "plt.show()"
   ]
  },
  {
   "cell_type": "markdown",
   "id": "f3511b16",
   "metadata": {},
   "source": [
    "## How do you write a function?"
   ]
  },
  {
   "cell_type": "code",
   "execution_count": null,
   "id": "d54baa0d",
   "metadata": {
    "lines_to_next_cell": 1
   },
   "outputs": [],
   "source": [
    "def f(x):\n",
    "    return x * x\n",
    "\n",
    "\n",
    "print(f\"square of 2: {f(2)}\")\n",
    "print(f\"square of [1, 2, 3, 4]: {f(np.array([1,2,3,4]))}\")"
   ]
  },
  {
   "cell_type": "markdown",
   "id": "2e3e14fa",
   "metadata": {},
   "source": [
    "# Evolutionary algorithms\n",
    "Evolutionary algorithms (EA) are population-based optimization algorithms used to find global optima. The algorithms are inspired from theory of evolution: a population evolves due to reproduction, mutation, and environmental selection (\"Survival of the fittest\" - Darwin's evolutionary theory).\n",
    "\n",
    "- Problem: Optimize objective f(x) with input variables x.\n",
    "- Solve using evolutionary algorithm:\n",
    "    1. Generate an initial population of individuals (Here individual x encapsulates the input variables)\n",
    "    2. Evaluate fitness and select a subset of fit individuals (Here fitness is related to objective to be optimized)\n",
    "    3. Breed new individuals using crossover and mutation operators\n",
    "    4. Repeat steps 2, 3 until a stopping criteria is fulfilled (e.g. negligible change in population)\n",
    "\n",
    "\n",
    "Some surprising solutions obtained using EA: http://www.karlsims.com/evolved-virtual-creatures.html"
   ]
  },
  {
   "cell_type": "markdown",
   "id": "1e39a00a",
   "metadata": {},
   "source": [
    "# Genetic algorithms (GA)\n",
    "- Popular among evolutionary algorithms.\n",
    "- Each individual is represented as a binary string.\n",
    "- Size of new generation is same as the old generation.\n",
    "- Emphasis is on recombination operator rather than the mutation operator\n",
    "- Probabilistic selection\n",
    "- Weak selection with large population size (= 50 in general)"
   ]
  },
  {
   "cell_type": "markdown",
   "id": "66732ee7",
   "metadata": {},
   "source": [
    "# Using GA, maximize the following objective functions."
   ]
  },
  {
   "cell_type": "code",
   "execution_count": null,
   "id": "5dd763ee",
   "metadata": {},
   "outputs": [],
   "source": [
    "def f1(x):\n",
    "    a1 = 950\n",
    "    b1 = 10\n",
    "    c1 = 2\n",
    "    a2 = 200\n",
    "    b2 = 25\n",
    "    c2 = 2\n",
    "    d = 10\n",
    "    return (\n",
    "        a1 * np.exp(-((x - b1) ** 2) / (2 * c1 ** 2))\n",
    "        + a2 * np.exp(-((x - b2) ** 2) / (2 * c2 ** 2))\n",
    "        + d\n",
    "    )\n",
    "\n",
    "def f2(x):\n",
    "    return x ** 2 + 10\n",
    "\n",
    "def f3(x):\n",
    "    return (\n",
    "        (-0.0004) * (x - 0) * (x - 7) * (x - 14) * (1 * x - 21) * (x - 28) * (x - 31)\n",
    "        + 250.0\n",
    "        + 18 * np.sin(7 * x)\n",
    "    )\n",
    "\n",
    "\n",
    "def f4(x):\n",
    "    omega = 2.0\n",
    "    sigma = 10.0\n",
    "    c = 1000.0\n",
    "    return (c * np.sin(omega * x) ** 2) * np.exp(-x / sigma)"
   ]
  },
  {
   "cell_type": "markdown",
   "id": "a56f20df",
   "metadata": {},
   "source": [
    "# First plot the objective functions"
   ]
  },
  {
   "cell_type": "code",
   "execution_count": null,
   "id": "e657a8d3",
   "metadata": {},
   "outputs": [],
   "source": [
    "x = np.arange(0.0, 31.001, 0.001)\n",
    "\n",
    "fig, ax = plt.subplots(figsize=(10, 5))\n",
    "ax.set_xlim([0, 31])\n",
    "ax.set_ylim([0, 1000])\n",
    "ax.set_xlabel(\"x\")\n",
    "ax.set_ylabel(\"f(x)\", rotation=0)\n",
    "ax.plot(x, f1(x), label=\"f1(x)\")\n",
    "ax.plot(x, f2(x), label=\"f2(x)\")\n",
    "ax.plot(x, f3(x), label=\"f3(x)\")\n",
    "ax.plot(x, f4(x), label=\"f4(x)\")\n",
    "ax.legend(loc=0)\n",
    "plt.show()"
   ]
  },
  {
   "cell_type": "markdown",
   "id": "f6216347",
   "metadata": {},
   "source": [
    "# Select an objective functions (f1 to f4) to maximize.\n",
    "Which function is the most difficult to maximize?"
   ]
  },
  {
   "cell_type": "code",
   "execution_count": null,
   "id": "22c8b56e",
   "metadata": {
    "lines_to_next_cell": 1
   },
   "outputs": [],
   "source": [
    "f = f1"
   ]
  },
  {
   "cell_type": "markdown",
   "id": "0a366fdb",
   "metadata": {},
   "source": [
    "# Mapping an integer to a binary string\n",
    "Say we have a design variable (v) ranging from 1 to 6 is to be mapped to a 4 bit string. Then v=1 is mapped to '0000', v=6 is mapped to '1111'. Everything in between is mapped linearly."
   ]
  },
  {
   "cell_type": "code",
   "execution_count": null,
   "id": "fd846100",
   "metadata": {},
   "outputs": [],
   "source": [
    "# conversion functions:\n",
    "def bin_to_int(i):\n",
    "    return int(i, 2)\n",
    "\n",
    "\n",
    "def int_to_bin(i):\n",
    "    return np.binary_repr(i)\n",
    "\n",
    "\n",
    "def bin_to_float(b, lb=0, ub=31.0):\n",
    "    \"\"\"\n",
    "    Converts a binary string to a floating point number between\n",
    "    lower and upper bounds [lb, ub] using linear mapping\n",
    "    \"\"\"\n",
    "    max_b = \"1\" * len(b)\n",
    "    val = lb + (bin_to_int(b) / bin_to_int(max_b) * (ub - lb))\n",
    "    return val"
   ]
  },
  {
   "cell_type": "code",
   "execution_count": null,
   "id": "32c02643",
   "metadata": {
    "lines_to_next_cell": 1
   },
   "outputs": [],
   "source": [
    "# test conversions\n",
    "print(\"Integer 3 in binary form:\", int_to_bin(3))\n",
    "print(\"Convert back to integer form:\", bin_to_int(\"11\"))\n",
    "\n",
    "convert_strs = [\"00\", \"01\", \"10\", \"11\"]\n",
    "print(\n",
    "    \"Float map of {}: {}\".format(\n",
    "        convert_strs, [np.round(bin_to_float(b), 2) for b in convert_strs]\n",
    "    )\n",
    ")"
   ]
  },
  {
   "cell_type": "markdown",
   "id": "c57fcd58",
   "metadata": {},
   "source": [
    "# Randomly generate initial population"
   ]
  },
  {
   "cell_type": "code",
   "execution_count": null,
   "id": "d619fda9",
   "metadata": {},
   "outputs": [],
   "source": [
    "def initial_population(n, string_length=10):\n",
    "    \"\"\"\n",
    "    Creates the initial population with 'n' individuals.\n",
    "    Each length of each individual string is fixed.\n",
    "    \"\"\"\n",
    "    # generation is a set of individuals\n",
    "    generation = []\n",
    "    for i in range(n):\n",
    "        individual = \"\"\n",
    "        for j in range(string_length):\n",
    "            individual += str(np.random.choice([0, 1]))\n",
    "        generation.append(individual)\n",
    "    return generation"
   ]
  },
  {
   "cell_type": "code",
   "execution_count": null,
   "id": "53ee35fc",
   "metadata": {},
   "outputs": [],
   "source": [
    "G0 = initial_population(n=4, string_length=5)\n",
    "print(\"Initial Population: \", G0)\n",
    "for i in G0:\n",
    "    b = bin_to_float(i, 0, 31)\n",
    "    print(f\"Binary string: {i} represents {b}\")"
   ]
  },
  {
   "cell_type": "code",
   "execution_count": null,
   "id": "c0514cfb",
   "metadata": {},
   "outputs": [],
   "source": [
    "# Define fitness for proportional selection\n",
    "fitness = lambda x: f(x)"
   ]
  },
  {
   "cell_type": "markdown",
   "id": "8998dbac",
   "metadata": {},
   "source": [
    "# Proportional selection:\n",
    "- weak selection pressure\n",
    "- can only take positive values for objective function\n",
    "- outliers deteriorate the scheme"
   ]
  },
  {
   "cell_type": "code",
   "execution_count": null,
   "id": "159e5f32",
   "metadata": {},
   "outputs": [],
   "source": [
    "import matplotlib.cm as cm\n",
    "import matplotlib.colors as colors\n",
    "\n",
    "\n",
    "def roulette_wheel(G, ax):\n",
    "    \"\"\"\n",
    "    Returns a roulette wheel for a given population 'G' according to the\n",
    "    fitness value of the individuals, 'ax' is an Axes object on which the\n",
    "    roulette wheel is plotted. Bigger the fitness value, bigger the share in the wheel\n",
    "    \"\"\"\n",
    "    fracs = []\n",
    "    wheel = []\n",
    "    labels = []\n",
    "    color_vals = [i for i in range(len(G))]\n",
    "    norm = colors.Normalize(0, len(G))\n",
    "    cmap = cm.get_cmap(\"jet\")\n",
    "    color = cmap(norm(color_vals))\n",
    "\n",
    "    # calculate fitness of each individual\n",
    "    Gx = [bin_to_float(i) for i in G]\n",
    "    fGx = [fitness(i) for i in Gx]\n",
    "\n",
    "    # find fitness fractions of each individual\n",
    "    for i in range(len(G)):\n",
    "        labels.append(\"Ind-\" + str(i))\n",
    "        fracs.append(float(fGx[i]) / float(sum(fGx)))\n",
    "\n",
    "    # draw pie chart\n",
    "    ax.pie(fracs, labels=labels, colors=color, normalize=True)\n",
    "\n",
    "    # For each individual, accumulate fractions upto i\n",
    "    # These are used to figure out where the roulette\n",
    "    # wheel stops, i.e., select individuals\n",
    "    for i in range(len(fracs)):\n",
    "        if i == 0:\n",
    "            wheel.append(fracs[i])\n",
    "        else:\n",
    "            wheel.append(wheel[i - 1] + fracs[i])\n",
    "\n",
    "    return wheel"
   ]
  },
  {
   "cell_type": "code",
   "execution_count": null,
   "id": "a7d2c53c",
   "metadata": {
    "lines_to_next_cell": 1
   },
   "outputs": [],
   "source": [
    "# plot an example roulette wheel\n",
    "fig, ax = plt.subplots()\n",
    "G0 = initial_population(5)\n",
    "for i in range(len(G0)):\n",
    "    print(\"Fitness of individual {} is {}\".format(i, fitness(bin_to_float(G0[i]))))\n",
    "W0 = roulette_wheel(G0, ax)\n",
    "print(\"Wheel (CDF): \", W0)"
   ]
  },
  {
   "cell_type": "markdown",
   "id": "8152832b",
   "metadata": {},
   "source": [
    "# Selection for mating operator"
   ]
  },
  {
   "cell_type": "code",
   "execution_count": null,
   "id": "fdcd2914",
   "metadata": {},
   "outputs": [],
   "source": [
    "def mating(G, W):\n",
    "    \"\"\"\n",
    "    Returns a mating pool. For each individual in the population 'G', the\n",
    "    roulette wheel 'W' is turned once from which the id of a mate is selected\n",
    "    \"\"\"\n",
    "    mates = []\n",
    "    for _ in G:\n",
    "        # spin the roulette wheel and find where the pin stops\n",
    "        stop_point = np.random.rand()\n",
    "        for i in range(len(W)):\n",
    "            if i == 0:\n",
    "                if stop_point <= W[i] and stop_point > 0:\n",
    "                    mate = i\n",
    "            else:\n",
    "                if stop_point <= W[i] and stop_point > W[i - 1]:\n",
    "                    mate = i\n",
    "        mates.append(mate)\n",
    "    return mates"
   ]
  },
  {
   "cell_type": "code",
   "execution_count": null,
   "id": "58190c26",
   "metadata": {},
   "outputs": [],
   "source": [
    "# Select mates from a population\n",
    "mates = mating(G0, W0)\n",
    "print(f\"Selected mates from the population {G0}: {mates}\")"
   ]
  },
  {
   "cell_type": "markdown",
   "id": "4c11307d",
   "metadata": {},
   "source": [
    "# Crossover operator, a type of recombination operator"
   ]
  },
  {
   "cell_type": "code",
   "execution_count": null,
   "id": "df277115",
   "metadata": {},
   "outputs": [],
   "source": [
    "def crossover(G, M1, M2, probability=1.0, keep=\"random\", print_all=False):\n",
    "    \"\"\"\n",
    "    Performs one-point crossover for a population 'G', two parents are selected using two mating pools 'M1' and 'M2'.\n",
    "\n",
    "    Args:\n",
    "        G ([str]): Generation (a population of individuals)\n",
    "        M1 ([int]): Mating pool 1\n",
    "        M2 ([int]): Mating pool 2\n",
    "        probability (float): If probability = 1.0, crossover is performed\n",
    "            for every individual in the population, if probability = 0.0,\n",
    "            crossover is not performed, i.e. the closer the value of the\n",
    "            probability is to zero, crossover is less likely to happen,\n",
    "            the closer to 1.0, crossover is most likely to occur.\n",
    "        keep (str, optional): Only one offspring is kept to form the new\n",
    "            generation, the 'keep' variable controls this decision, keep can\n",
    "            be 1, 2 or 'random', 1 for keeping the first offspring, 2 the\n",
    "            second, and 'random' to decide with a coin toss.\n",
    "        print_all (bool, optional): Print process.\n",
    "\n",
    "    Returns:\n",
    "        [str]: New generation\n",
    "    \"\"\"\n",
    "    new_generation = []\n",
    "\n",
    "    assert keep in [\"random\", 1, 2]\n",
    "\n",
    "    if print_all:\n",
    "        print(\n",
    "            \"|-{1:->12}---{2:->12}---{3:->12}---{4:->12}-|\".format(\"\", \"\", \"\", \"\", \"\")\n",
    "        )\n",
    "        print(\n",
    "            \"| {1:>12}   {2:>12}   {3:>12}   {4:>12} |\".format(\n",
    "                \"\", \"Crossover:\", \"\", \"\", \"\"\n",
    "            )\n",
    "        )\n",
    "        print(\n",
    "            \"|-{1:->12}---{2:->12}---{3:->12}---{4:->12}-|\".format(\"\", \"\", \"\", \"\", \"\")\n",
    "        )\n",
    "        print(\n",
    "            \"| {1:^12} | {2:^12} | {3:^12} | {4:^12} |\".format(\n",
    "                \"\", \"Id\", \"Parents\", \"Child\", \"Keep\"\n",
    "            )\n",
    "        )\n",
    "        print(\n",
    "            \"|-{1:->12}---{2:->12}---{3:->12}---{4:->12}-|\".format(\"\", \"\", \"\", \"\", \"\")\n",
    "        )\n",
    "\n",
    "    for i in range(len(G)):\n",
    "        # figure out where to crossover\n",
    "        if np.random.rand() < probability:\n",
    "            cp = np.random.randint(1, len(G[i]) - 1)  # cp .. cross point\n",
    "        else:\n",
    "            cp = 0\n",
    "        parent_1 = G[M1[i]][:cp] + \"|\" + G[M1[i]][cp:]\n",
    "        parent_2 = G[M2[i]][:cp] + \"|\" + G[M2[i]][cp:]\n",
    "        child_1 = G[M1[i]][:cp] + \"|\" + G[M2[i]][cp:]\n",
    "        child_2 = G[M2[i]][:cp] + \"|\" + G[M1[i]][cp:]\n",
    "        children = [child_1, child_2]\n",
    "\n",
    "        # remove the divider\n",
    "        if keep == \"random\":\n",
    "            keep = np.random.choice([1, 2])\n",
    "\n",
    "        # decide which child to keep (no pun intended)\n",
    "        kept = children[keep - 1].replace(\"|\", \"\")\n",
    "\n",
    "        new_generation.append(kept)\n",
    "        if print_all:\n",
    "            print(\n",
    "                \"| {1:>12} | {2:>12} | {3:>12} | {4:>12} |\".format(\n",
    "                    \"\", \"Ind-\" + str(M1[i]), parent_1, child_1, kept\n",
    "                )\n",
    "            )\n",
    "            print(\n",
    "                \"| {1:>12} | {2:>12} | {3:>12} | {4:>12} |\".format(\n",
    "                    \"\", \"Ind-\" + str(M2[i]), parent_2, child_2, \"\"\n",
    "                )\n",
    "            )\n",
    "            print(\n",
    "                \"|-{1:->12}---{2:->12}---{3:->12}---{4:->12}-|\".format(\n",
    "                    \"\", \"\", \"\", \"\", \"\"\n",
    "                )\n",
    "            )\n",
    "    return new_generation"
   ]
  },
  {
   "cell_type": "code",
   "execution_count": null,
   "id": "a75195fb",
   "metadata": {},
   "outputs": [],
   "source": [
    "# test Crossover operator\n",
    "M1 = mating(G0, W0)\n",
    "M2 = mating(G0, W0)\n",
    "print(\"Population: \", G0)\n",
    "print(\"Mating indices 1: \", M1)\n",
    "print(\"Mating indices 2: \", M2)\n",
    "G1 = crossover(G0, M1, M2, print_all=True, keep=\"random\")"
   ]
  },
  {
   "cell_type": "code",
   "execution_count": null,
   "id": "1e26ba2c",
   "metadata": {},
   "outputs": [],
   "source": [
    "def mutation(G, probability=0.001, print_all=False):\n",
    "    \"\"\"Performs mutation for every individual in the given population with some probability.\n",
    "\n",
    "    Args:\n",
    "        G ([str]): Generation\n",
    "        probability (float, optional): Mutation probablity.\n",
    "        print_all (bool, optional): Print process.\n",
    "\n",
    "    Returns:\n",
    "        [type]: [description]\n",
    "    \"\"\"\n",
    "    new_generation = []\n",
    "    if print_all:\n",
    "        print(\"|-{0:->12}---{1:->12}---{2:->12}-|\".format(\"\", \"\", \"\"))\n",
    "        print(\"| {0:>12}   {1:>12}   {2:>12} |\".format(\"Mutation:\", \"\", \"\"))\n",
    "        print(\"|-{0:->12}---{1:->12}---{2:->12}-|\".format(\"\", \"\", \"\"))\n",
    "        print(\"| {0:^12} | {1:^12} | {2:^12} |\".format(\"Id\", \"Original\", \"New\"))\n",
    "        print(\"|-{0:->12}---{1:->12}---{2:->12}-|\".format(\"\", \"\", \"\"))\n",
    "\n",
    "    for i, ind in enumerate(G):\n",
    "        new_ind = \"\"\n",
    "        for ch in ind:\n",
    "            # with some probability, flip old value of each character\n",
    "            if np.random.rand() < probability:\n",
    "                if ch == \"1\":\n",
    "                    new_ch = \"0\"\n",
    "                if ch == \"0\":\n",
    "                    new_ch = \"1\"\n",
    "                new_ind += new_ch\n",
    "            # Keep the old value\n",
    "            else:\n",
    "                new_ind += ch\n",
    "        new_generation.append(new_ind)\n",
    "        if print_all:\n",
    "            print(\n",
    "                \"| {0:^12} | {1:^12} | {2:^12} |\".format(\"Ind-\" + str(i), ind, new_ind)\n",
    "            )\n",
    "    if print_all:\n",
    "        print(\"|-{0:->12}---{1:->12}---{2:->12}-|\".format(\"\", \"\", \"\"))\n",
    "    return new_generation"
   ]
  },
  {
   "cell_type": "code",
   "execution_count": null,
   "id": "861756be",
   "metadata": {
    "lines_to_next_cell": 1
   },
   "outputs": [],
   "source": [
    "print(\"Low probability of mutation:\")\n",
    "r1 = mutation(G0, print_all=True, probability=0.001)\n",
    "print(\"High probability of mutation:\")\n",
    "r2 = mutation(G0, print_all=True, probability=1)"
   ]
  },
  {
   "cell_type": "code",
   "execution_count": null,
   "id": "7bcba9b3",
   "metadata": {},
   "outputs": [],
   "source": [
    "# print fitness of a generation\n",
    "def print_fitness(G):\n",
    "    Gx = [bin_to_float(i) for i in G]\n",
    "    fGx = [fitness(i) for i in Gx]\n",
    "    print(\"|-{0:->12}---{1:->12}---{2:->12}---{3:->12}-|\".format(\"\", \"\", \"\", \"\"))\n",
    "    print(\n",
    "        \"| {0:^12} | {1:^12} | {2:^12} | {3:^12} |\".format(\n",
    "            \"Id\", \"Individual\", \"x Value\", \"Fitness\"\n",
    "        )\n",
    "    )\n",
    "    print(\"|-{0:->12}---{1:->12}---{2:->12}---{3:->12}-|\".format(\"\", \"\", \"\", \"\"))\n",
    "    for i in range(len(G)):\n",
    "        print(\n",
    "            \"| {0:^12} | {1:>12} | {2:>12.2f} | {3:12.2f} |\".format(\n",
    "                \"Ind-\" + str(i), G[i], Gx[i], fGx[i]\n",
    "            )\n",
    "        )\n",
    "    print(\"|-{0:->12}---{1:->12}---{2:->12}---{3:->12}-|\".format(\"\", \"\", \"\", \"\"))\n",
    "    print(\"| {0:<12}   {1:>12}   {2:>12} | {3:12.2f} |\".format(\"Sum\", \"\", \"\", sum(fGx)))\n",
    "    print(\n",
    "        \"| {0:<12}   {1:>12}   {2:>12} | {3:12.2f} |\".format(\n",
    "            \"Average\", \"\", \"\", sum(fGx) / float(len(fGx))\n",
    "        )\n",
    "    )\n",
    "    print(\"| {0:<12}   {1:>12}   {2:>12} | {3:12.2f} |\".format(\"Max\", \"\", \"\", max(fGx)))\n",
    "    print(\"|-{0:->12}---{1:->12}---{2:->12}---{3:->12}-|\".format(\"\", \"\", \"\", \"\"))"
   ]
  },
  {
   "cell_type": "code",
   "execution_count": null,
   "id": "43fcbdbf",
   "metadata": {},
   "outputs": [],
   "source": [
    "print_fitness(G0)"
   ]
  },
  {
   "cell_type": "code",
   "execution_count": null,
   "id": "c1416fb6",
   "metadata": {},
   "outputs": [],
   "source": [
    "import itertools\n",
    "\n",
    "\n",
    "def plot_population(G, ax, alpha=1.0):\n",
    "    \"\"\"Plot individuals with different colors.\n",
    "\n",
    "    Args:\n",
    "        G ([str]): Population\n",
    "        ax ([type]): Matplotlib axes\n",
    "        alpha (float, optional): Transparency of each marker (individual).\n",
    "    \"\"\"\n",
    "    # calculate fitness\n",
    "    Gx = [bin_to_float(i) for i in G]\n",
    "    fGx = [f(i) for i in Gx]\n",
    "\n",
    "    # iterate over base colors\n",
    "    color_iterator = itertools.cycle(colors.BASE_COLORS.keys())\n",
    "\n",
    "    # scatter plot\n",
    "    for i in range(len(Gx)):\n",
    "        ax.scatter(Gx[i], fGx[i], c=next(color_iterator), s=70, alpha=alpha)"
   ]
  },
  {
   "cell_type": "code",
   "execution_count": null,
   "id": "02b705bf",
   "metadata": {},
   "outputs": [],
   "source": [
    "# show fitness of the population\n",
    "_, ax = plt.subplots()\n",
    "plot_population(G0, ax)\n",
    "ax.plot(x, f(x))\n",
    "plt.show()"
   ]
  },
  {
   "cell_type": "markdown",
   "id": "45bf188d",
   "metadata": {},
   "source": [
    "# GA algorithm:\n",
    "1. Generate initial population\n",
    "2. Evaluate fitness of population\n",
    "3. Select individuals based on fitness for mutation selection (Note that there is no environmental selection)\n",
    "4. Use recombination operator (Here crossover operator is used)\n",
    "5. Use (weak) mutation operator\n",
    "6. Repeat steps 2-5 until optimality criteria is fulfilled"
   ]
  },
  {
   "cell_type": "code",
   "execution_count": null,
   "id": "a240b68e",
   "metadata": {},
   "outputs": [],
   "source": [
    "# initialize population and iteration count\n",
    "import time\n",
    "\n",
    "n = 20  # population size\n",
    "G = initial_population(n)\n",
    "t_max = 20  # number of iterations\n",
    "\n",
    "# setting up plot layout\n",
    "fig, (ax1, ax2) = plt.subplots(1, 2, figsize=(10, 5))"
   ]
  },
  {
   "cell_type": "code",
   "execution_count": null,
   "id": "b6cdd7bf",
   "metadata": {},
   "outputs": [],
   "source": [
    "# For each iteration, plot the new generation\n",
    "for t in range(t_max):\n",
    "    # clear axis\n",
    "    ax1.clear()\n",
    "    ax2.clear()\n",
    "\n",
    "    # set up axes layout\n",
    "    ax1.grid()\n",
    "    ax1.set_xlabel(\"x\")\n",
    "    ax1.set_ylabel(\"f(x)\", rotation=0)\n",
    "    ax1.set_xlim([0, 31])\n",
    "    ax1.set_ylim([0, 1000])\n",
    "    ax2.set_aspect(\"equal\")\n",
    "\n",
    "    # plot population\n",
    "    fig.suptitle(f\"Iteration = {t}\")\n",
    "    ax1.plot(x, f(x))\n",
    "    plot_population(G, ax1, alpha=0.5)\n",
    "\n",
    "    # prepare new generation\n",
    "    W = roulette_wheel(G, ax2)\n",
    "    M1 = mating(G, W)\n",
    "    M2 = mating(G, W)\n",
    "    C = crossover(G, M1, M2, probability=0.7, keep=\"random\")\n",
    "    G = mutation(C, probability=0.01)\n",
    "\n",
    "    # output to figure\n",
    "    fig.canvas.draw()\n",
    "    fig.canvas.flush_events()\n",
    "    time.sleep(1)\n",
    "\n",
    "print_fitness(G)"
   ]
  },
  {
   "cell_type": "code",
   "execution_count": null,
   "id": "7edcf3d4",
   "metadata": {},
   "outputs": [],
   "source": [
    "# Minimize the objective\n",
    "fitness = lambda x: 1 / f(x)"
   ]
  },
  {
   "cell_type": "code",
   "execution_count": null,
   "id": "65a4370d",
   "metadata": {},
   "outputs": [],
   "source": [
    "# Increases selective pressure\n",
    "fitness = lambda x: f(x) ** 2"
   ]
  },
  {
   "cell_type": "markdown",
   "id": "aceaf87a",
   "metadata": {},
   "source": [
    "# Optional exercises:\n",
    "- GA finds a global maximum if fitness-based selection schemes is used. How do we find a minimum?\n",
    "- What does exponentional scaling of the objective function do?\n",
    "- How do we keep the best individuals?\n",
    "- Improve crossover operator: Use multi-point crossover and uniform crossover instead of one-point crossover\n",
    "- Improve mutation operator: adaptively decrease the mutation probability\n",
    "- Improve diversity of solutions found e.g. find all local optima\n",
    "- Implement GA for a structural optimization problem"
   ]
  },
  {
   "cell_type": "code",
   "execution_count": null,
   "id": "97e90514",
   "metadata": {},
   "outputs": [],
   "source": []
  }
 ],
 "metadata": {
  "jupytext": {
   "cell_metadata_filter": "-all",
   "notebook_metadata_filter": "-all",
   "text_representation": {
    "extension": ".py",
    "format_name": "percent"
   }
  },
  "kernelspec": {
   "display_name": "Python 3 (ipykernel)",
   "language": "python",
   "name": "python3"
  },
  "language_info": {
   "codemirror_mode": {
    "name": "ipython",
    "version": 3
   },
   "file_extension": ".py",
   "mimetype": "text/x-python",
   "name": "python",
   "nbconvert_exporter": "python",
   "pygments_lexer": "ipython3",
   "version": "3.9.7"
  }
 },
 "nbformat": 4,
 "nbformat_minor": 5
}
