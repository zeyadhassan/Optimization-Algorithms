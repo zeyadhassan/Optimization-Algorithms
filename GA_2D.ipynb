{
 "cells": [
  {
   "cell_type": "markdown",
   "id": "da34f2d5",
   "metadata": {},
   "source": [
    "# Genetic Algorithm - 2D Example"
   ]
  },
  {
   "cell_type": "code",
   "execution_count": null,
   "id": "3621cab7",
   "metadata": {},
   "outputs": [],
   "source": [
    "# objective functions\n",
    "import numpy as np\n",
    "\n",
    "\n",
    "def f(x, y):\n",
    "    omega = 1.6\n",
    "    sigma = 20.0\n",
    "    return (np.sin(omega * x) ** 2) * (np.sin(omega * y) ** 2) * np.exp(\n",
    "        -(x + y) / sigma\n",
    "    ) + 10.0"
   ]
  },
  {
   "cell_type": "code",
   "execution_count": null,
   "id": "72547690",
   "metadata": {
    "lines_to_next_cell": 1
   },
   "outputs": [],
   "source": [
    "# plot objective function\n",
    "import matplotlib.pyplot as plt\n",
    "from matplotlib import cm, colors\n",
    "from IPython import get_ipython\n",
    "\n",
    "get_ipython().run_line_magic(\"matplotlib\", \"widget\")\n",
    "\n",
    "# sample points in a mesh\n",
    "delta = 0.1\n",
    "x = np.arange(0.0, 10.0, delta)\n",
    "y = np.arange(0.0, 10.0, delta)\n",
    "X, Y = np.meshgrid(x, y)\n",
    "Z = f(X, Y)\n",
    "\n",
    "# create matplotlib plot\n",
    "fig = plt.figure()\n",
    "ax = fig.add_subplot(1, 1, 1, projection=\"3d\")\n",
    "ax.plot_surface(\n",
    "    X, Y, Z, rstride=1, cstride=1, cmap=\"coolwarm\", linewidth=0, antialiased=False\n",
    ")\n",
    "plt.show()"
   ]
  },
  {
   "cell_type": "code",
   "execution_count": null,
   "id": "b924ff8e",
   "metadata": {},
   "outputs": [],
   "source": [
    "## conversion functions\n",
    "def bin_to_int(b):\n",
    "    return int(b, 2)\n",
    "\n",
    "\n",
    "def bin_to_2D_float(b, lb=0.0, ub=10.0, print_all=False):\n",
    "    \"\"\"Converts the two halves of a binary string to two floating point\n",
    "    numbers using linear mapping within given bounds for the numbers.\n",
    "\n",
    "    Args:\n",
    "        b (str): binary string\n",
    "        lb (float, optional): lower bound. Defaults to 0.0.\n",
    "        ub (float, optional): upper bound. Defaults to 10.0.\n",
    "        print_all (bool, optional): print process. Defaults to False.\n",
    "\n",
    "    Returns:\n",
    "        [float]: tuple of two floating point numbers\n",
    "    \"\"\"\n",
    "    i1 = \"\"\n",
    "    i2 = \"\"\n",
    "    for idx in range(len(b)):\n",
    "        if idx < len(b) / 2:\n",
    "            i1 += b[idx]\n",
    "        else:\n",
    "            i2 += b[idx]\n",
    "\n",
    "    Max_i = \"1\" * len(i1)\n",
    "    val1 = ((ub - lb) / float(int(Max_i, 2))) * float(int(i1, 2)) + lb\n",
    "    val2 = ((ub - lb) / float(int(Max_i, 2))) * float(int(i2, 2)) + lb\n",
    "    if print_all:\n",
    "        print(\n",
    "            \"string is split into {} ({}) and {} ({})\".format(\n",
    "                i1, bin_to_int(i1), i2, bin_to_int(i2)\n",
    "            )\n",
    "        )\n",
    "        print(f\"The corresponding values are: {val1}, {val2}\")\n",
    "    return (val1, val2)"
   ]
  },
  {
   "cell_type": "code",
   "execution_count": null,
   "id": "68c94869",
   "metadata": {},
   "outputs": [],
   "source": [
    "vals = bin_to_2D_float(\"101010\", lb=0, ub=10, print_all=True)"
   ]
  },
  {
   "cell_type": "markdown",
   "id": "120ba88c",
   "metadata": {},
   "source": [
    "# Operators used by Genetic algorithm"
   ]
  },
  {
   "cell_type": "code",
   "execution_count": null,
   "id": "c1fd46ed",
   "metadata": {},
   "outputs": [],
   "source": [
    "def initial_population(n):\n",
    "    \"\"\"\n",
    "    Creates the initial population with 'n' individuals\n",
    "    \"\"\"\n",
    "    sl = 60  # Length of the binary string of the individuals\n",
    "    generation = []\n",
    "    for i in range(n):\n",
    "        individual = \"\"\n",
    "        for j in range(sl):\n",
    "            individual += str(np.random.choice([0, 1]))\n",
    "\n",
    "        generation.append(individual)\n",
    "    return generation"
   ]
  },
  {
   "cell_type": "code",
   "execution_count": null,
   "id": "6c3001a5",
   "metadata": {},
   "outputs": [],
   "source": [
    "print(\"Initial Population: \\n\", initial_population(n=4))"
   ]
  },
  {
   "cell_type": "markdown",
   "id": "d75d979d",
   "metadata": {},
   "source": [
    "# 2D Objective functions"
   ]
  },
  {
   "cell_type": "code",
   "execution_count": null,
   "id": "53e95010",
   "metadata": {
    "lines_to_next_cell": 1
   },
   "outputs": [],
   "source": [
    "def f1(x):\n",
    "    return f(x[0], x[1])\n",
    "\n",
    "\n",
    "fitness = f1"
   ]
  },
  {
   "cell_type": "code",
   "execution_count": null,
   "id": "92b3ba4f",
   "metadata": {},
   "outputs": [],
   "source": [
    "def roulette_wheel(G, ax):\n",
    "    \"\"\"\n",
    "    Returns a roulette wheel for a given population 'G' according to the\n",
    "    fitness value of the individuals, 'ax' is an Axes object on which the\n",
    "    roulette wheel is plotted\n",
    "    \"\"\"\n",
    "    fracs = []\n",
    "    wheel = []\n",
    "    labels = []\n",
    "    color_vals = [i for i in range(len(G))]\n",
    "    norm = colors.Normalize(0, len(G))\n",
    "    cmap = cm.get_cmap(\"jet\")\n",
    "    color = cmap(norm(color_vals))\n",
    "    Gx = [bin_to_2D_float(i) for i in G]\n",
    "    fGx = [fitness(i) for i in Gx]\n",
    "    for i in range(len(G)):\n",
    "        labels.append(\"Ind-\" + str(i))\n",
    "        fracs.append(float(fGx[i]) / float(sum(fGx)))\n",
    "    for i in range(len(fracs)):\n",
    "        if i == 0:\n",
    "            wheel.append(fracs[i])\n",
    "        else:\n",
    "            wheel.append(wheel[i - 1] + fracs[i])\n",
    "    ax.pie(fracs, labels=labels, colors=color, normalize=True)\n",
    "    return wheel"
   ]
  },
  {
   "cell_type": "code",
   "execution_count": null,
   "id": "8e883470",
   "metadata": {
    "lines_to_next_cell": 1
   },
   "outputs": [],
   "source": [
    "# plot an example roulette wheel\n",
    "fig, ax = plt.subplots()\n",
    "G0 = initial_population(5)\n",
    "for i in range(len(G0)):\n",
    "    print(\"Fitness of individual {} is {}\".format(i, fitness(bin_to_2D_float(G0[i]))))\n",
    "W0 = roulette_wheel(G0, ax)\n",
    "print(\"Wheel (CDF): \", W0)\n",
    "plt.show()"
   ]
  },
  {
   "cell_type": "code",
   "execution_count": null,
   "id": "50c7011d",
   "metadata": {},
   "outputs": [],
   "source": [
    "def mating(G, W):\n",
    "    \"\"\"\n",
    "    Returns a mating pool. For each individual in the population 'G', the\n",
    "    roulette wheel 'W' is turned once from which the id of a mate is selected\n",
    "    \"\"\"\n",
    "    Mates = []\n",
    "    for _ in G:\n",
    "        test = np.random.rand()\n",
    "        for i in range(len(W)):\n",
    "            if i == 0:\n",
    "                if test <= W[i] and test > 0.0:\n",
    "                    mate = i\n",
    "            else:\n",
    "                if test <= W[i] and test > W[i - 1]:\n",
    "                    mate = i\n",
    "        Mates.append(mate)\n",
    "    return Mates"
   ]
  },
  {
   "cell_type": "code",
   "execution_count": null,
   "id": "ed72b1f9",
   "metadata": {},
   "outputs": [],
   "source": [
    "def crossover(G, M1, M2, probability=1.0, keep=1, print_all=False):\n",
    "    \"\"\"\n",
    "    Performs one-point crossover for a population 'G', two parents are selected\n",
    "    using two mating pools 'M1' and 'M2'. Crossover is performed according to\n",
    "    the 'probability' variable, if probability = 1.0, crossover is performed\n",
    "    for every individual in the population, if probability = 0.0, crossover\n",
    "    is not performed, i.e. the closer the value of the probability is to zero,\n",
    "    crossover is less likely to happen, the closer to 1.0, crossover is most\n",
    "    likely to occur. Only one offspring is kept to form the new generation,\n",
    "    the 'keep' variable controls this decision, keep can be 1, 2 or 'random',\n",
    "    1 for keeping the first offspring, 2 the second, and 'random' to decide\n",
    "    with a coin toss.\n",
    "    \"\"\"\n",
    "    New_Generation = []\n",
    "\n",
    "    assert keep in [\"random\", 1, 2]\n",
    "\n",
    "    if print_all:\n",
    "        print(\n",
    "            \"|-{1:->12}---{2:->12}---{3:->12}---{4:->12}-|\".format(\"\", \"\", \"\", \"\", \"\")\n",
    "        )\n",
    "        print(\n",
    "            \"| {1:>12}   {2:>12}   {3:>12}   {4:>12} |\".format(\n",
    "                \"\", \"Crossover:\", \"\", \"\", \"\"\n",
    "            )\n",
    "        )\n",
    "        print(\n",
    "            \"|-{1:->12}---{2:->12}---{3:->12}---{4:->12}-|\".format(\"\", \"\", \"\", \"\", \"\")\n",
    "        )\n",
    "        print(\n",
    "            \"| {1:^12} | {2:^12} | {3:^12} | {4:^12} |\".format(\n",
    "                \"\", \"Id\", \"Parents\", \"Child\", \"Keep\"\n",
    "            )\n",
    "        )\n",
    "        print(\n",
    "            \"|-{1:->12}---{2:->12}---{3:->12}---{4:->12}-|\".format(\"\", \"\", \"\", \"\", \"\")\n",
    "        )\n",
    "\n",
    "    for i in range(len(G)):\n",
    "        # figure out where to crossover\n",
    "        if np.random.rand() < probability:\n",
    "            cp = np.random.randint(1, len(G[i]) - 1)  # cp .. cross point\n",
    "        else:\n",
    "            cp = 0\n",
    "        Parent_1 = G[M1[i]][:cp] + \"|\" + G[M1[i]][cp:]\n",
    "        Parent_2 = G[M2[i]][:cp] + \"|\" + G[M2[i]][cp:]\n",
    "        Child_1 = G[M1[i]][:cp] + \"|\" + G[M2[i]][cp:]\n",
    "        Child_2 = G[M2[i]][:cp] + \"|\" + G[M1[i]][cp:]\n",
    "        Children = [Child_1, Child_2]\n",
    "\n",
    "        # remove the divider\n",
    "        if keep == \"random\":\n",
    "            keep = np.random.choice([1, 2])\n",
    "\n",
    "        # decide which child to keep (no pun intended)\n",
    "        kept = Children[keep - 1].replace(\"|\", \"\")\n",
    "\n",
    "        New_Generation.append(kept)\n",
    "        if print_all:\n",
    "            print(\n",
    "                \"| {1:>12} | {2:>12} | {3:>12} | {4:>12} |\".format(\n",
    "                    \"\", \"Ind-\" + str(M1[i]), Parent_1, Child_1, kept\n",
    "                )\n",
    "            )\n",
    "            print(\n",
    "                \"| {1:>12} | {2:>12} | {3:>12} | {4:>12} |\".format(\n",
    "                    \"\", \"Ind-\" + str(M2[i]), Parent_2, Child_2, \"\"\n",
    "                )\n",
    "            )\n",
    "            print(\n",
    "                \"|-{1:->12}---{2:->12}---{3:->12}---{4:->12}-|\".format(\n",
    "                    \"\", \"\", \"\", \"\", \"\"\n",
    "                )\n",
    "            )\n",
    "    return New_Generation"
   ]
  },
  {
   "cell_type": "code",
   "execution_count": null,
   "id": "554f20e4",
   "metadata": {},
   "outputs": [],
   "source": [
    "def mutate(G, probability=0.001, print_all=False):\n",
    "    \"\"\"\n",
    "    Performs mutation for every individual in the population 'G' according to\n",
    "    the 'probability' variable.\n",
    "    \"\"\"\n",
    "    New_Generation = []\n",
    "    if print_all:\n",
    "        print(\"|-{0:->12}---{1:->12}---{2:->12}-|\".format(\"\", \"\", \"\"))\n",
    "        print(\"| {0:>12}   {1:>12}   {2:>12} |\".format(\"Mutation:\", \"\", \"\"))\n",
    "        print(\"|-{0:->12}---{1:->12}---{2:->12}-|\".format(\"\", \"\", \"\"))\n",
    "        print(\"| {0:^12} | {1:^12} | {2:^12} |\".format(\"Id\", \"Original\", \"New\"))\n",
    "        print(\"|-{0:->12}---{1:->12}---{2:->12}-|\".format(\"\", \"\", \"\"))\n",
    "    for i, Ind in enumerate(G):\n",
    "        New_Ind = \"\"\n",
    "        for ch in Ind:\n",
    "            if np.random.rand() < probability:\n",
    "                if ch == \"1\":\n",
    "                    new_ch = \"0\"\n",
    "                if ch == \"0\":\n",
    "                    new_ch = \"1\"\n",
    "                New_Ind += new_ch\n",
    "            else:\n",
    "                New_Ind += ch\n",
    "        New_Generation.append(New_Ind)\n",
    "        if print_all:\n",
    "            print(\n",
    "                \"| {0:^12} | {1:^12} | {2:^12} |\".format(\"Ind-\" + str(i), Ind, New_Ind)\n",
    "            )\n",
    "    if print_all:\n",
    "        print(\"|-{0:->12}---{1:->12}---{2:->12}-|\".format(\"\", \"\", \"\"))\n",
    "    return New_Generation"
   ]
  },
  {
   "cell_type": "code",
   "execution_count": null,
   "id": "40eb2068",
   "metadata": {},
   "outputs": [],
   "source": [
    "def print_fitness(G):\n",
    "    # calculate fitness\n",
    "    Gx = [bin_to_2D_float(i) for i in G]\n",
    "    fGx = [fitness(i) for i in Gx]\n",
    "\n",
    "    print(\"|-{0:->12}---{1:->45}---{2:->12}-|\".format(\"\", \"\", \"\", \"\"))\n",
    "    print(\"| {0:^12}| {1:^45} | {2:^12} |\".format(\"Id\", \"x Value\", \"Fitness\"))\n",
    "    print(\"|-{0:->12}---{1:->45}---{2:->12}-|\".format(\"\", \"\", \"\"))\n",
    "    for i in range(len(G)):\n",
    "        print(\n",
    "            \"| {0:^12} | ({1:^20} , {2:^20}) | {3:^12.2f} |\".format(\n",
    "                \"Ind-\" + str(i), Gx[i][0], Gx[i][1], fGx[i]\n",
    "            )\n",
    "        )\n",
    "    print(\"|-{0:->12}---{1:->45}---{2:->12}-|\".format(\"\", \"\", \"\"))\n",
    "    print(\"| {0:<12}   {1:>45} | {2:12.2f} |\".format(\"Sum\", \"\", sum(fGx)))\n",
    "    print(\n",
    "        \"| {0:<12}   {1:>45} | {2:12.2f} |\".format(\n",
    "            \"Average\", \"\", sum(fGx) / float(len(fGx))\n",
    "        )\n",
    "    )\n",
    "    print(\"| {0:<12}   {1:>45} | {2:12.2f} |\".format(\"Max\", \"\", max(fGx)))\n",
    "    print(\"|-{0:->12}---{1:->45}---{2:->12}-|\".format(\"\", \"\", \"\"))"
   ]
  },
  {
   "cell_type": "code",
   "execution_count": null,
   "id": "afe9ecd7",
   "metadata": {
    "lines_to_next_cell": 2
   },
   "outputs": [],
   "source": [
    "G0 = initial_population(4)\n",
    "print_fitness(G0)"
   ]
  },
  {
   "cell_type": "code",
   "execution_count": null,
   "id": "7a8c0b07",
   "metadata": {},
   "outputs": [],
   "source": [
    "import itertools\n",
    "\n",
    "\n",
    "def plot_population(G, ax, alpha=0.7):\n",
    "    Gx = [bin_to_2D_float(i) for i in G]\n",
    "    color_iterator = itertools.cycle(colors.BASE_COLORS.keys())\n",
    "    for i in range(len(Gx)):\n",
    "        ax.scatter(Gx[i][0], Gx[i][1], c=next(color_iterator), alpha=alpha)"
   ]
  },
  {
   "cell_type": "code",
   "execution_count": null,
   "id": "1ee98e07",
   "metadata": {},
   "outputs": [],
   "source": [
    "# show fitness of the population\n",
    "fig, ax = plt.subplots(figsize=(6, 4))\n",
    "ax.set_xlim([0, 10])\n",
    "ax.set_ylim([0, 10])\n",
    "ax.grid()\n",
    "ax.set_xlabel(\"x\")\n",
    "ax.set_ylabel(\"y\", rotation=0)\n",
    "delta = 0.1\n",
    "x = np.arange(0.0, 10.0, delta)\n",
    "y = np.arange(0.0, 10.0, delta)\n",
    "X, Y = np.meshgrid(x, y)\n",
    "Z = f(X, Y)\n",
    "ax.contour(X, Y, Z, cmap=cm.coolwarm, antialiased=False)\n",
    "G0 = initial_population(40)\n",
    "plot_population(G0, ax)\n",
    "plt.show()"
   ]
  },
  {
   "cell_type": "markdown",
   "id": "89350334",
   "metadata": {},
   "source": [
    "### Change population size (default = 50), mutation probability (default = 0.3)\n",
    "1. Change population size from 50 to 10\n",
    "2. Change population size from 50 to 100\n",
    "3. 1/l heuristic: Change mutation level to 1/l where l is length of individual string.\n",
    "\n",
    "Exponential relation between absorption and the string length ( O($e^l$) ). So, high mutations can be disastrous for Genetric algorithms"
   ]
  },
  {
   "cell_type": "code",
   "execution_count": null,
   "id": "394ec4fc",
   "metadata": {},
   "outputs": [],
   "source": [
    "# initialize and iteration limit\n",
    "\n",
    "n = 50  # population size\n",
    "G = initial_population(n)\n",
    "t = 0\n",
    "t_max = 50\n",
    "# set plot layout\n",
    "delta = 0.1\n",
    "x = np.arange(0.0, 10.0, delta)\n",
    "y = np.arange(0.0, 10.0, delta)\n",
    "X, Y = np.meshgrid(x, y)\n",
    "Z = f(X, Y)\n",
    "fig, (ax1, ax2) = plt.subplots(1, 2, figsize=(10, 5))"
   ]
  },
  {
   "cell_type": "code",
   "execution_count": null,
   "id": "ba179e57",
   "metadata": {
    "lines_to_next_cell": 1
   },
   "outputs": [],
   "source": [
    "# run evalution algorithm\n",
    "import time\n",
    "\n",
    "for t in range(t_max):\n",
    "    # set up axes\n",
    "    # clear axes\n",
    "    ax1.clear()\n",
    "    ax2.clear()\n",
    "\n",
    "    fig.suptitle(\"Iteration = {0:>3}\".format(t))\n",
    "    ax2.set_aspect(\"equal\")\n",
    "    ax1.set_xlim([0, 10])\n",
    "    ax1.set_ylim([0, 10])\n",
    "    ax1.grid()\n",
    "    ax1.set_xlabel(\"x\")\n",
    "    ax1.set_ylabel(\"y\", rotation=0)\n",
    "\n",
    "    # plot\n",
    "    ax1.contour(X, Y, Z, cmap=cm.coolwarm, antialiased=False)\n",
    "    plot_population(G, ax1, alpha=0.5)\n",
    "\n",
    "    # prepare new generation\n",
    "    W = roulette_wheel(G, ax2)\n",
    "    M1 = mating(G, W)\n",
    "    M2 = mating(G, W)\n",
    "    C = crossover(G, M1, M2, probability=0.7, keep=\"random\")  # default: 0.7\n",
    "    G = mutate(C, probability=0.05)  # default: 0.05\n",
    "\n",
    "    # redraw plots\n",
    "    fig.canvas.draw()\n",
    "    fig.canvas.flush_events()\n",
    "    time.sleep(0.01)\n",
    "\n",
    "print_fitness(G)"
   ]
  },
  {
   "cell_type": "code",
   "execution_count": null,
   "id": "4c7c9a35",
   "metadata": {
    "lines_to_next_cell": 1
   },
   "outputs": [],
   "source": [
    "# Increase selective pressure\n",
    "def f2(x):\n",
    "    return f(x[0], x[1]) ** 4\n",
    "\n",
    "\n",
    "fitness = f2"
   ]
  },
  {
   "cell_type": "code",
   "execution_count": null,
   "id": "942c12cc",
   "metadata": {},
   "outputs": [],
   "source": [
    "# Bias the objective to improve variation and increase selective pressure\n",
    "# You should observe much better performance\n",
    "# So design your objective carefully!\n",
    "def f3(x):\n",
    "    return ((f(x[0], x[1]) - 10.0)) ** 4\n",
    "\n",
    "\n",
    "fitness = f3"
   ]
  },
  {
   "cell_type": "code",
   "execution_count": null,
   "id": "6affcb1a",
   "metadata": {},
   "outputs": [],
   "source": []
  }
 ],
 "metadata": {
  "jupytext": {
   "cell_metadata_filter": "-all",
   "formats": "auto:percent,ipynb",
   "notebook_metadata_filter": "-all"
  },
  "kernelspec": {
   "display_name": "Python 3 (ipykernel)",
   "language": "python",
   "name": "python3"
  },
  "language_info": {
   "codemirror_mode": {
    "name": "ipython",
    "version": 3
   },
   "file_extension": ".py",
   "mimetype": "text/x-python",
   "name": "python",
   "nbconvert_exporter": "python",
   "pygments_lexer": "ipython3",
   "version": "3.9.7"
  }
 },
 "nbformat": 4,
 "nbformat_minor": 5
}
