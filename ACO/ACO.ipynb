{
 "cells": [
  {
   "cell_type": "markdown",
   "metadata": {},
   "source": [
    "# Ant Colony Optimisation (ACO)"
   ]
  },
  {
   "cell_type": "markdown",
   "metadata": {},
   "source": [
    "ACO is a simple metaheuristics that only requires 2 mandatory parameters in its most simple implementation:\n",
    "- Number of ants\n",
    "- Pheromone Evaporation\n",
    "\n",
    "\n",
    "The steps are the following (here for a TSP but works in general):\n",
    "1. Initialise pheromone and problem setup\n",
    "2. Loop until termination criterion is reached:<br>\n",
    "    a) Construct a feasible solution for each ant using the pheromone matrix<br>\n",
    "    b) Evaluate quality of all ant solution<br>\n",
    "    c) Update pheromone (evaporation and deposition)\n",
    "\n"
   ]
  },
  {
   "cell_type": "markdown",
   "metadata": {},
   "source": [
    "## Import necessary libraries"
   ]
  },
  {
   "cell_type": "code",
   "execution_count": null,
   "metadata": {},
   "outputs": [],
   "source": [
    "\"\"\"\n",
    "Created on Mon Okt 28 2013\n",
    "\n",
    "@author:    S.H. Hesse\n",
    "            For the use in my Ph.d Research\n",
    "         \n",
    "@purpose:   Ant Colony Optimization method for TSP.\n",
    "            Based on research by M. Dorigo\n",
    "            \n",
    "Adapted for use in Jupyter Lab with additional interactive plotting by A. Kaps\n",
    "\"\"\"\n",
    "\n",
    "import numpy as np\n",
    "import matplotlib.pyplot as plt\n",
    "import scipy.spatial.distance as ssd"
   ]
  },
  {
   "cell_type": "markdown",
   "metadata": {},
   "source": [
    "##  Auxiliary graph reading function\n",
    "Reads the vertices of a fully connected graph from a given file"
   ]
  },
  {
   "cell_type": "code",
   "execution_count": null,
   "metadata": {},
   "outputs": [],
   "source": [
    "def readFile(filename):\n",
    "    Graph = []\n",
    "    in_file = open(filename, 'r')\n",
    "    for line in in_file:\n",
    "        tmp = line.split(',')\n",
    "        row = []\n",
    "        for col in range(len(tmp)):\n",
    "            row.append(float(tmp[col].strip()))\n",
    "        Graph.append(row)\n",
    "    return np.array(Graph)"
   ]
  },
  {
   "cell_type": "markdown",
   "metadata": {},
   "source": [
    "## Auxiliary plotting function\n",
    "Given the nodes of a fully-connected graph as well as an axes handle this function plots the graph"
   ]
  },
  {
   "cell_type": "code",
   "execution_count": null,
   "metadata": {},
   "outputs": [],
   "source": [
    "def plot_graph(ax,x,y):\n",
    "    ax.set_aspect('equal')\n",
    "    ax.set_xlabel('X')\n",
    "    ax.set_ylabel('Y')\n",
    "    # Plot cities\n",
    "    ax.scatter(x, y, c='grey', s=100, zorder=2)\n",
    "        \n",
    "    # Here we are plotting all the links between cities\n",
    "    for i in range(len(x)):  \n",
    "        for j in range(len(y)):\n",
    "            ax.plot([x[i],x[j]],[y[i],y[j]], c='grey', ls='-', alpha=0.1, zorder=1)"
   ]
  },
  {
   "cell_type": "markdown",
   "metadata": {},
   "source": [
    "## Single solution construction and pheromone updating"
   ]
  },
  {
   "cell_type": "code",
   "execution_count": null,
   "metadata": {},
   "outputs": [],
   "source": [
    "# Selects the subsequent city in the path of an ant\n",
    "# given probablilities determined below\n",
    "def selectCity(probs):\n",
    "    w_cumsum = np.cumsum(probs)\n",
    "    choice_l = np.random.rand()\n",
    "    for i in np.arange(0,len(w_cumsum)):\n",
    "        if choice_l <= w_cumsum[i]:\n",
    "            choice = i\n",
    "            break    \n",
    "    return choice\n",
    "\n",
    "\n",
    "# Constructs a solution for a single ant\n",
    "def constructSolution(locPher, dist, N, alpha=1, beta=5):\n",
    "    # Initialise  variables by randomly choosing starting city\n",
    "    sol = np.zeros((N,2),dtype=\"int\")\n",
    "    startCity = np.random.randint(0,N)\n",
    "    city = startCity\n",
    "    Nsol = np.arange(N)\n",
    "    Nsol = Nsol[Nsol!=city]\n",
    "    \n",
    "    cnt = 0\n",
    "    # Loop through all remaining cities\n",
    "    while len(Nsol):\n",
    "        # This scheme was presented in lecture as \"advanced TSP scheme\"\n",
    "        posPher = locPher[city,Nsol]**alpha\n",
    "        posDist = dist[city,Nsol]**(-beta)\n",
    "        pick = []\n",
    "        for j in Nsol:\n",
    "            pick.append( ( locPher[city,j]**alpha * dist[city,j]**-beta ) / ( np.dot(posPher,posDist.T) ) )\n",
    "\n",
    "        # Select the next city\n",
    "        oldCity = city\n",
    "        city = Nsol[selectCity(pick)]\n",
    "    \n",
    "        # Update the solution and continue\n",
    "        sol[cnt] = [oldCity, city]\n",
    "        Nsol = Nsol[Nsol!=city]\n",
    "        cnt += 1\n",
    "\n",
    "    sol[cnt] = [city, startCity]\n",
    "    return sol.tolist()\n",
    "\n",
    "# Compute delta pheromone for advanced scheme\n",
    "def updatePheromone(locSol,locF_eval, N, Q = 1):\n",
    "    deltaPher = np.zeros((N,N))\n",
    "    for edge in locSol:\n",
    "        deltaPher[edge[0],edge[1]] = Q / locF_eval\n",
    "        deltaPher[edge[1],edge[0]] = Q / locF_eval\n",
    "\n",
    "    return deltaPher\n",
    "\n",
    "probs= np.ones(4) * 0.25\n",
    "selectCity(probs)"
   ]
  },
  {
   "cell_type": "markdown",
   "metadata": {},
   "source": [
    "## Main optimisation loop"
   ]
  },
  {
   "cell_type": "code",
   "execution_count": null,
   "metadata": {},
   "outputs": [],
   "source": [
    "def ACO(graph_file, k, gen_max, rho = 0.5, plotting = True):\n",
    "    # Read the graph and plot it \n",
    "    graph = readFile(graph_file)\n",
    "           \n",
    "    # Now initialise some variables such as size, pheromone and distance matrix\n",
    "    N = len(graph)\n",
    "        \n",
    "    nrPher = np.sum(range(1,N))\n",
    "    pher = np.ones((N,N))*0.0001\n",
    "    \n",
    "    dist = ssd.squareform(ssd.pdist(graph))\n",
    "    cnt = 0\n",
    "    \n",
    "    # Plot initial graph and prepare interactive plotting\n",
    "    if plotting:\n",
    "        plt.ion()\n",
    "        fig = plt.figure(1)\n",
    "        ax = fig.add_subplot(111)\n",
    "        x = graph[:,0]\n",
    "        y = graph[:,1]\n",
    "        plot_graph(ax,x,y)\n",
    "        fig.canvas.draw()\n",
    "        plt.pause(0.5)\n",
    "        fig = plt.figure(2)\n",
    "        ax = fig.add_subplot(111)\n",
    "        \n",
    "    # Start the optimisation loop itself\n",
    "    while True:\n",
    "        cnt += 1\n",
    "\n",
    "        sol = []\n",
    "        F_eval = []\n",
    "        # Do for each ant\n",
    "        for ant in range(k):\n",
    "            # Construct a solution and add it to the list of all solutions\n",
    "            currSol = constructSolution(pher, dist, N)\n",
    "            sol.append(currSol)\n",
    "\n",
    "            # Evaluate the quality of the solution\n",
    "            f_eval = 0\n",
    "            for i in range(N):\n",
    "                f_eval = f_eval + dist[currSol[i][0]][currSol[i][1]]\n",
    "            F_eval.append(f_eval)\n",
    "        \n",
    "        # Plot the current best solution\n",
    "        if plotting:\n",
    "            ax.clear()\n",
    "            plot_graph(ax,x,y)\n",
    "            \n",
    "            path = sol[np.argmin(F_eval)]\n",
    "            for line in path:\n",
    "                ax.plot([x[line[0]], x[line[1]]], [y[line[0]], y[line[1]]], c='orange', ls='-', alpha=1.0, linewidth=3, zorder=1)\n",
    "            ax.set_title('Iteration: {}\\nCurrent best solution'.format(cnt))\n",
    "            fig.canvas.draw()\n",
    "            plt.pause(0.1)\n",
    "    \n",
    "        # Update pheromone values (again advanced scheme)\n",
    "        pher *= (1-rho)\n",
    "        for ant in range(k):\n",
    "            deltaPher = updatePheromone(sol[ant],F_eval[ant], N)\n",
    "            pher += deltaPher\n",
    "    \n",
    "        if cnt == gen_max:\n",
    "            break\n",
    "    \n",
    "    if plotting:\n",
    "        pher[pher<1e-3] = 0\n",
    "        print(\"=\"*40)\n",
    "        print(\"Finished ACO after {} generations!\".format(gen_max))\n",
    "        print(\"Shortest path has length {:f}.\".format(min(F_eval)))\n",
    "        print(\"Path was used by {} of the {} ants!\".format(np.count_nonzero(F_eval == min(F_eval)), k))\n",
    "        fig = plt.figure(3)\n",
    "        ax = fig.add_subplot(111)\n",
    "        plot_graph(ax,x,y)\n",
    "        path = sol[np.argmin(F_eval)]\n",
    "        for line in path:\n",
    "            ax.plot([x[line[0]], x[line[1]]], [y[line[0]], y[line[1]]], c='red', ls='-', alpha=1.0, linewidth=5, zorder=1)\n",
    "        plt.show()\n"
   ]
  },
  {
   "cell_type": "markdown",
   "metadata": {},
   "source": [
    "## Main Method"
   ]
  },
  {
   "cell_type": "code",
   "execution_count": null,
   "metadata": {},
   "outputs": [],
   "source": [
    "%matplotlib notebook\n",
    "if __name__ == '__main__':\n",
    "    k = 5       # number of ants\n",
    "    rho = 0.5\n",
    "    gen_max = 20\n",
    "    \n",
    "    filename = 'Graph_bigger.txt'\n",
    "    \n",
    "    ACO(filename, k, gen_max, rho, plotting=True)"
   ]
  },
  {
   "cell_type": "markdown",
   "metadata": {},
   "source": [
    "## Additional optional exercises\n",
    "1. Create different graphs and apply the algorithm. Also change the parameters and see how it changes solutions.\n",
    "2. The scheme implemented here is an advanced one regarding solution construction as well as pheromone approximation. Implement the basic scheme presented in the lecture.\n",
    "3. Add a new termination criterion that stops the algorithm when all ants follow the same path.\n",
    "4. Write a separate Python script to generate new graphs."
   ]
  },
  {
   "cell_type": "code",
   "execution_count": null,
   "metadata": {},
   "outputs": [],
   "source": []
  }
 ],
 "metadata": {
  "kernelspec": {
   "display_name": "Python 3 (ipykernel)",
   "language": "python",
   "name": "python3"
  },
  "language_info": {
   "codemirror_mode": {
    "name": "ipython",
    "version": 3
   },
   "file_extension": ".py",
   "mimetype": "text/x-python",
   "name": "python",
   "nbconvert_exporter": "python",
   "pygments_lexer": "ipython3",
   "version": "3.9.7"
  }
 },
 "nbformat": 4,
 "nbformat_minor": 4
}
