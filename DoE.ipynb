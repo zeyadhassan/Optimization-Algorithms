{
 "cells": [
  {
   "cell_type": "markdown",
   "metadata": {},
   "source": [
    "# Design of Experiments"
   ]
  },
  {
   "cell_type": "code",
   "execution_count": null,
   "metadata": {},
   "outputs": [],
   "source": [
    "# -*- coding: utf-8 -*-\n",
    "\"\"\"\n",
    "Created on Wed Nov 23 15:45:48 2016\n",
    "\n",
    "Created by K. Komeilizadeh\n",
    "\n",
    "Adapted for Jupyter Lab by A. Kaps\n",
    "\"\"\"\n",
    "\n",
    "# The first line will likely throw an error at first. You will have to install the pyDOE2 package.\n",
    "# Go to your Anaconda Prompt and type \"conda install -c conda-forge pydoe2\" to install it. That should solve it.\n",
    "import pyDOE2\n",
    "import numpy as np\n",
    "import matplotlib.pyplot as plt\n",
    "from mpl_toolkits.mplot3d import Axes3D\n",
    "\n",
    "%matplotlib inline"
   ]
  },
  {
   "cell_type": "markdown",
   "metadata": {},
   "source": [
    "## Full factorial design"
   ]
  },
  {
   "cell_type": "code",
   "execution_count": null,
   "metadata": {},
   "outputs": [],
   "source": [
    "# ------ generate samples for 3-level full factorial for 2 design variables.\n",
    "# ---- inputs\n",
    "input_list = [3, 3]\n",
    "DoE_FullFact = pyDOE2.fullfact(input_list)\n",
    "col = [0,0,0]  # color of the lables (RGB color scheme)\n",
    "\n",
    "# ---- plot\n",
    "fig = plt.figure()\n",
    "ax = fig.add_subplot(111)\n",
    "ax.scatter(DoE_FullFact[:,0],DoE_FullFact[:,1])\n",
    "# -- lables\n",
    "ax.set_xlabel('Design variable 1', color=col, labelpad=8)\n",
    "ax.set_ylabel('Design variable 2',color=col, labelpad=8)\n",
    "plt.title('Full Factorial Design', fontsize = 12)\n",
    "plt.axis('square')\n",
    "\n",
    "\n",
    "\"\"\"\n",
    "Input list to fullfact function:\n",
    "  Each number in the input_list gives the level for that dimension.\n",
    "  i.e., [2,4,3]  means first dimension has 2 levels, second 4 and \n",
    "  third 3 levels. fullfact function in pyDOE2 is flexible and allows\n",
    "  one to create diferent levels for different direction so full \n",
    "  factorial can also be generate by this function.\n",
    "\"\"\"\n",
    "## ------ generate samples for 3 design variables and 2,4,3  levels.\n",
    "# ---- inputs\n",
    "input_list = [2,4,3]\n",
    "DoE_Fact = pyDOE2.fullfact(input_list)\n",
    "\n",
    "# ---- plot\n",
    "fig1 = plt.figure()\n",
    "ax1 = fig1.add_subplot(111, projection='3d')\n",
    "ax1.scatter(DoE_Fact[:,0],DoE_Fact[:,1],DoE_Fact[:,2])\n",
    "# -- labels\n",
    "ax1.set_xlabel('Design variable 1', color=col, labelpad=8)\n",
    "ax1.set_ylabel('Design variable 2',color=col, labelpad=8)\n",
    "ax1.set_zlabel('Design variable 3', color=col, labelpad=5, rotation=90)\n",
    "plt.title('Full Factorial Design', loc='left', fontsize = 12, fontdict = {'fontsize': \n",
    "           12, 'verticalalignment': 'bottom','horizontalalignment': 'left'}) "
   ]
  },
  {
   "cell_type": "markdown",
   "metadata": {},
   "source": [
    "## Box-Behnken Design"
   ]
  },
  {
   "cell_type": "code",
   "execution_count": null,
   "metadata": {},
   "outputs": [],
   "source": [
    "# ------ generate samples for 3 design variables from Box-Behnken design\n",
    "# ---- inputs\n",
    "num_dv = 3 # factors or in other words number of design variables\n",
    "DoE_BB = pyDOE2.bbdesign(num_dv)\n",
    "\n",
    "# ---- plot\n",
    "fig2 = plt.figure()\n",
    "ax2 = fig2.add_subplot(111, projection='3d')\n",
    "ax2.scatter(DoE_BB[:,0],DoE_BB[:,1],DoE_BB[:,2])\n",
    "# -- lables\n",
    "ax2.set_xlabel('Design variable 1', color=col, labelpad=8)\n",
    "ax2.set_ylabel('Design variable 2',color=col, labelpad=8)\n",
    "ax2.set_zlabel('Design variable 3', color=col, labelpad=5, rotation=90)\n",
    "\n",
    "# boundaries of the design space\n",
    "plt.title('Box-Behnken Design', loc='left', fontsize = 12, fontdict = {'fontsize': \n",
    "           12, 'verticalalignment': 'bottom','horizontalalignment': 'left'})        \n",
    "       \n",
    "plt.show()"
   ]
  },
  {
   "cell_type": "markdown",
   "metadata": {},
   "source": [
    "## Monte Carlo Sampling"
   ]
  },
  {
   "cell_type": "code",
   "execution_count": null,
   "metadata": {},
   "outputs": [],
   "source": [
    "# ---------------- inputs      \n",
    "num_dv = 2               # dimension\n",
    "num_samp = 10            # No. of samples\n",
    "\n",
    "# -------------------------- one plot\n",
    "# by default, lower bound: 0, upper bound: 1\n",
    "DoE_Uni = np.random.rand(num_dv,num_samp).T \n",
    "# ---------------- plot\n",
    "fig = plt.figure()\n",
    "ax = fig.add_subplot(111)\n",
    "ax.scatter(DoE_Uni[:,0],DoE_Uni[:,1])\n",
    "# --- boundaries of the design space\n",
    "ax.plot([0,0,1,1,0],[0,1,1,0,0], color=[0.5,0.5,0.5], linestyle='--', linewidth = 0.5)\n",
    "## --- grid lines\n",
    "num_sampf = np.float(num_samp) # turn integer to float to avoid getting zero in devision    \n",
    "for i in range(num_samp):\n",
    "    ax.plot([0,1],[i/num_sampf,i/num_sampf],color=[0.5,0.5,0.5], linestyle=':')\n",
    "    ax.plot([i/num_sampf,i/num_sampf],[0,1],color=[0.5,0.5,0.5], linestyle=':')\n",
    "# -- lables\n",
    "ax.set_xlabel('Design variable 1', color=col, labelpad=8)\n",
    "ax.set_ylabel('Design variable 2',color=col, labelpad=8)\n",
    "plt.title('Uniform Sampling', fontsize = 12)\n",
    "plt.axis('square')"
   ]
  },
  {
   "cell_type": "markdown",
   "metadata": {},
   "source": [
    "## Latin Hypercube Design"
   ]
  },
  {
   "cell_type": "code",
   "execution_count": null,
   "metadata": {},
   "outputs": [],
   "source": [
    "# ---------------- inputs      \n",
    "num_dv = 2               # dimension\n",
    "num_samp = 10            # No. of samples\n",
    "num_iterations=5000     # number of iterations for improving LH\n",
    "\n",
    "num_sampf = np.float(num_samp) # turn integer to float to avoid getting zero in devision  \n",
    "\n",
    "## -------------------------- Original LHS\n",
    "## by default, lower bound: 0, upper bound: 1\n",
    "DoE_LHS = pyDOE2.lhs(num_dv, num_samp,criterion = 'centermaximin') \n",
    "# ---------------- plot\n",
    "fig = plt.figure(1)\n",
    "ax = fig.add_subplot(111)\n",
    "ax.scatter(DoE_LHS[:,0],DoE_LHS[:,1])\n",
    "# --- boundaries of the design space\n",
    "ax.plot([0,0,1,1,0],[0,1,1,0,0], color=[0.5,0.5,0.5], linestyle='--', linewidth = 0.5)\n",
    "# --- grid lines  \n",
    "for i in range(num_samp):\n",
    "    ax.plot([0,1],[i/num_sampf,i/num_sampf],color=[0.5,0.5,0.5], linestyle=':')\n",
    "    ax.plot([i/num_sampf,i/num_sampf],[0,1],color=[0.5,0.5,0.5], linestyle=':')\n",
    "# -- lables\n",
    "ax.set_xlabel('Design variable 1', color=col, labelpad=8)\n",
    "ax.set_ylabel('Design variable 2',color=col, labelpad=8)\n",
    "plt.title('LH Design', fontsize = 12)\n",
    "plt.axis('square')\n",
    "#\n",
    "# -------------------------- Optimal LHS                  \n",
    "# by default, lower bound: 0, upper bound: 1\n",
    "DoE_LHS_Opt = pyDOE2.lhs(num_dv, num_samp,criterion = 'centermaximin', iterations = num_iterations) \n",
    "# ---------------- plot\n",
    "fig = plt.figure(2)\n",
    "ax = fig.add_subplot(111)\n",
    "ax.scatter(DoE_LHS_Opt[:,0],DoE_LHS_Opt[:,1])\n",
    "# --- boundaries of the design space\n",
    "ax.plot([0,0,1,1,0],[0,1,1,0,0], color=[0.5,0.5,0.5], linestyle='--', linewidth = 0.5)\n",
    "# --- grid lines\n",
    "for i in range(num_samp):\n",
    "    ax.plot([0,1],[i/num_sampf,i/num_sampf],color=[0.5,0.5,0.5], linestyle=':')\n",
    "    ax.plot([i/num_sampf,i/num_sampf],[0,1],color=[0.5,0.5,0.5], linestyle=':')\n",
    "# -- lables\n",
    "ax.set_xlabel('Design variable 1', color=col, labelpad=8)\n",
    "ax.set_ylabel('Design variable 2',color=col, labelpad=8)\n",
    "plt.title('Optimal LH Design - %d iterations'%num_iterations, fontsize = 12)\n",
    "plt.axis('square')"
   ]
  },
  {
   "cell_type": "markdown",
   "metadata": {},
   "source": [
    "## Additional Ideas\n",
    "1. Play around with the different approaches, e.g. compare MCS and LHS for different number of samples.\n",
    "2. Look around if you can find libraries (or methods) for different approaches mentioned in the lectures and try to    implement them here. Compare results in the end.\n",
    "3. Try to implement approaches -- like the original LHS -- yourself. While it is a challenge, it should be possible with below 20 lines of code."
   ]
  }
 ],
 "metadata": {
  "kernelspec": {
   "display_name": "Python 3",
   "language": "python",
   "name": "python3"
  },
  "language_info": {
   "codemirror_mode": {
    "name": "ipython",
    "version": 3
   },
   "file_extension": ".py",
   "mimetype": "text/x-python",
   "name": "python",
   "nbconvert_exporter": "python",
   "pygments_lexer": "ipython3",
   "version": "3.8.5"
  }
 },
 "nbformat": 4,
 "nbformat_minor": 4
}
